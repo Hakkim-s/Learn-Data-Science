{
  "nbformat": 4,
  "nbformat_minor": 0,
  "metadata": {
    "colab": {
      "name": "Workout.ipynb",
      "provenance": [],
      "collapsed_sections": []
    },
    "kernelspec": {
      "name": "python3",
      "display_name": "Python 3"
    }
  },
  "cells": [
    {
      "cell_type": "code",
      "metadata": {
        "id": "jOP_6nxsT5d0",
        "colab_type": "code",
        "colab": {}
      },
      "source": [
        "import numpy as np\n",
        "\n",
        "\n",
        "for num in range(2,-5,-1):\n",
        "    print(num)"
      ],
      "execution_count": 0,
      "outputs": []
    },
    {
      "cell_type": "code",
      "metadata": {
        "id": "Yt5uuczpT8Po",
        "colab_type": "code",
        "colab": {}
      },
      "source": [
        ""
      ],
      "execution_count": 0,
      "outputs": []
    },
    {
      "cell_type": "code",
      "metadata": {
        "id": "euD_qG1jWkWG",
        "colab_type": "code",
        "outputId": "6ee5a248-8df1-43a1-802a-f4faa3e70d5a",
        "colab": {
          "base_uri": "https://localhost:8080/",
          "height": 204
        }
      },
      "source": [
        "a = range(10)\n",
        "print(a)\n",
        "for w in a:\n",
        "  print(w)"
      ],
      "execution_count": 0,
      "outputs": [
        {
          "output_type": "stream",
          "text": [
            "range(0, 10)\n",
            "0\n",
            "1\n",
            "2\n",
            "3\n",
            "4\n",
            "5\n",
            "6\n",
            "7\n",
            "8\n",
            "9\n"
          ],
          "name": "stdout"
        }
      ]
    },
    {
      "cell_type": "code",
      "metadata": {
        "id": "zm_Kul7kpugW",
        "colab_type": "code",
        "outputId": "77e9a985-4bbb-4788-f315-3190472d9bb1",
        "colab": {
          "base_uri": "https://localhost:8080/",
          "height": 34
        }
      },
      "source": [
        "if 'a'=='A':\n",
        "  print('incase')\n",
        "else:\n",
        "  print('case')  "
      ],
      "execution_count": 0,
      "outputs": [
        {
          "output_type": "stream",
          "text": [
            "case\n"
          ],
          "name": "stdout"
        }
      ]
    },
    {
      "cell_type": "code",
      "metadata": {
        "id": "MIlNsF-NsVcu",
        "colab_type": "code",
        "outputId": "c13c03e5-22e0-4632-9162-403aa592b85e",
        "colab": {
          "base_uri": "https://localhost:8080/",
          "height": 34
        }
      },
      "source": [
        "a,b = 4,2\n",
        "if (0>0):\n",
        "  print('True')\n",
        "else:\n",
        "  print('F')  "
      ],
      "execution_count": 0,
      "outputs": [
        {
          "output_type": "stream",
          "text": [
            "F\n"
          ],
          "name": "stdout"
        }
      ]
    },
    {
      "cell_type": "code",
      "metadata": {
        "id": "MkJugDO-vMIX",
        "colab_type": "code",
        "outputId": "1b7e8018-04de-4aba-e1f0-2b3c8930df33",
        "colab": {
          "base_uri": "https://localhost:8080/",
          "height": 51
        }
      },
      "source": [
        "for num in range(10,14):\n",
        "    for i in range(2,num):\n",
        "      if num&i == 1:\n",
        "        print(num)\n",
        "        break"
      ],
      "execution_count": 0,
      "outputs": [
        {
          "output_type": "stream",
          "text": [
            "11\n",
            "13\n"
          ],
          "name": "stdout"
        }
      ]
    },
    {
      "cell_type": "code",
      "metadata": {
        "id": "t8e2swv-nyMU",
        "colab_type": "code",
        "outputId": "e903e8dd-f978-470c-8cb2-b1d44dfdf449",
        "colab": {
          "base_uri": "https://localhost:8080/",
          "height": 34
        }
      },
      "source": [
        "x = [0,2,4,5,6,7]\n",
        "sorted(x,)\n",
        "sum(x)"
      ],
      "execution_count": 0,
      "outputs": [
        {
          "output_type": "execute_result",
          "data": {
            "text/plain": [
              "24"
            ]
          },
          "metadata": {
            "tags": []
          },
          "execution_count": 28
        }
      ]
    },
    {
      "cell_type": "markdown",
      "metadata": {
        "id": "YpIARgwVvYT8",
        "colab_type": "text"
      },
      "source": [
        ""
      ]
    },
    {
      "cell_type": "code",
      "metadata": {
        "id": "gATDPjwTvYoN",
        "colab_type": "code",
        "outputId": "24ea42be-ae91-4393-ced8-9b6140e4f489",
        "colab": {
          "base_uri": "https://localhost:8080/",
          "height": 1000
        }
      },
      "source": [
        "def dis(str,num):\n",
        " multiple = str * num\n",
        " print(multiple)\n",
        " for n in multiple:\n",
        "     print(n)\n",
        "dis('King',56) "
      ],
      "execution_count": 0,
      "outputs": [
        {
          "output_type": "stream",
          "text": [
            "KingKingKingKingKingKingKingKingKingKingKingKingKingKingKingKingKingKingKingKingKingKingKingKingKingKingKingKingKingKingKingKingKingKingKingKingKingKingKingKingKingKingKingKingKingKingKingKingKingKingKingKingKingKingKingKing\n",
            "K\n",
            "i\n",
            "n\n",
            "g\n",
            "K\n",
            "i\n",
            "n\n",
            "g\n",
            "K\n",
            "i\n",
            "n\n",
            "g\n",
            "K\n",
            "i\n",
            "n\n",
            "g\n",
            "K\n",
            "i\n",
            "n\n",
            "g\n",
            "K\n",
            "i\n",
            "n\n",
            "g\n",
            "K\n",
            "i\n",
            "n\n",
            "g\n",
            "K\n",
            "i\n",
            "n\n",
            "g\n",
            "K\n",
            "i\n",
            "n\n",
            "g\n",
            "K\n",
            "i\n",
            "n\n",
            "g\n",
            "K\n",
            "i\n",
            "n\n",
            "g\n",
            "K\n",
            "i\n",
            "n\n",
            "g\n",
            "K\n",
            "i\n",
            "n\n",
            "g\n",
            "K\n",
            "i\n",
            "n\n",
            "g\n",
            "K\n",
            "i\n",
            "n\n",
            "g\n",
            "K\n",
            "i\n",
            "n\n",
            "g\n",
            "K\n",
            "i\n",
            "n\n",
            "g\n",
            "K\n",
            "i\n",
            "n\n",
            "g\n",
            "K\n",
            "i\n",
            "n\n",
            "g\n",
            "K\n",
            "i\n",
            "n\n",
            "g\n",
            "K\n",
            "i\n",
            "n\n",
            "g\n",
            "K\n",
            "i\n",
            "n\n",
            "g\n",
            "K\n",
            "i\n",
            "n\n",
            "g\n",
            "K\n",
            "i\n",
            "n\n",
            "g\n",
            "K\n",
            "i\n",
            "n\n",
            "g\n",
            "K\n",
            "i\n",
            "n\n",
            "g\n",
            "K\n",
            "i\n",
            "n\n",
            "g\n",
            "K\n",
            "i\n",
            "n\n",
            "g\n",
            "K\n",
            "i\n",
            "n\n",
            "g\n",
            "K\n",
            "i\n",
            "n\n",
            "g\n",
            "K\n",
            "i\n",
            "n\n",
            "g\n",
            "K\n",
            "i\n",
            "n\n",
            "g\n",
            "K\n",
            "i\n",
            "n\n",
            "g\n",
            "K\n",
            "i\n",
            "n\n",
            "g\n",
            "K\n",
            "i\n",
            "n\n",
            "g\n",
            "K\n",
            "i\n",
            "n\n",
            "g\n",
            "K\n",
            "i\n",
            "n\n",
            "g\n",
            "K\n",
            "i\n",
            "n\n",
            "g\n",
            "K\n",
            "i\n",
            "n\n",
            "g\n",
            "K\n",
            "i\n",
            "n\n",
            "g\n",
            "K\n",
            "i\n",
            "n\n",
            "g\n",
            "K\n",
            "i\n",
            "n\n",
            "g\n",
            "K\n",
            "i\n",
            "n\n",
            "g\n",
            "K\n",
            "i\n",
            "n\n",
            "g\n",
            "K\n",
            "i\n",
            "n\n",
            "g\n",
            "K\n",
            "i\n",
            "n\n",
            "g\n",
            "K\n",
            "i\n",
            "n\n",
            "g\n",
            "K\n",
            "i\n",
            "n\n",
            "g\n",
            "K\n",
            "i\n",
            "n\n",
            "g\n",
            "K\n",
            "i\n",
            "n\n",
            "g\n",
            "K\n",
            "i\n",
            "n\n",
            "g\n",
            "K\n",
            "i\n",
            "n\n",
            "g\n",
            "K\n",
            "i\n",
            "n\n",
            "g\n",
            "K\n",
            "i\n",
            "n\n",
            "g\n",
            "K\n",
            "i\n",
            "n\n",
            "g\n",
            "K\n",
            "i\n",
            "n\n",
            "g\n"
          ],
          "name": "stdout"
        }
      ]
    },
    {
      "cell_type": "code",
      "metadata": {
        "id": "4DSLOb7JnLkc",
        "colab_type": "code",
        "outputId": "7160b177-4414-495d-db5a-bf2f070d18e8",
        "colab": {
          "base_uri": "https://localhost:8080/",
          "height": 34
        }
      },
      "source": [
        "print(round(12.49877,4))"
      ],
      "execution_count": 0,
      "outputs": [
        {
          "output_type": "stream",
          "text": [
            "12.4988\n"
          ],
          "name": "stdout"
        }
      ]
    },
    {
      "cell_type": "code",
      "metadata": {
        "id": "r1OavdxHT-xw",
        "colab_type": "code",
        "outputId": "25ee2c9d-9eb7-4794-dad5-64dd774ee768",
        "colab": {
          "base_uri": "https://localhost:8080/",
          "height": 214
        }
      },
      "source": [
        "import numpy as np\n",
        "# a = np.array([1,2,3,4,5])\n",
        "# print(a.ndim)\n",
        "# print(a.size)\n",
        "# a = np.zeros(6)\n",
        "# b = np.arange(0,10,2)\n",
        "# c = a + b\n",
        "# print (c[4])\n",
        " \n",
        "e = np.array([1,2,3],[0,1,4])\n",
        "print(e.size)"
      ],
      "execution_count": 0,
      "outputs": [
        {
          "output_type": "error",
          "ename": "TypeError",
          "evalue": "ignored",
          "traceback": [
            "\u001b[0;31m---------------------------------------------------------------------------\u001b[0m",
            "\u001b[0;31mTypeError\u001b[0m                                 Traceback (most recent call last)",
            "\u001b[0;32m<ipython-input-17-863ea40ae7ba>\u001b[0m in \u001b[0;36m<module>\u001b[0;34m()\u001b[0m\n\u001b[1;32m      8\u001b[0m \u001b[0;31m# print (c[4])\u001b[0m\u001b[0;34m\u001b[0m\u001b[0;34m\u001b[0m\u001b[0;34m\u001b[0m\u001b[0m\n\u001b[1;32m      9\u001b[0m \u001b[0;34m\u001b[0m\u001b[0m\n\u001b[0;32m---> 10\u001b[0;31m \u001b[0me\u001b[0m \u001b[0;34m=\u001b[0m \u001b[0mnp\u001b[0m\u001b[0;34m.\u001b[0m\u001b[0marray\u001b[0m\u001b[0;34m(\u001b[0m\u001b[0;34m[\u001b[0m\u001b[0;36m1\u001b[0m\u001b[0;34m,\u001b[0m\u001b[0;36m2\u001b[0m\u001b[0;34m,\u001b[0m\u001b[0;36m3\u001b[0m\u001b[0;34m]\u001b[0m\u001b[0;34m,\u001b[0m\u001b[0;34m[\u001b[0m\u001b[0;36m0\u001b[0m\u001b[0;34m,\u001b[0m\u001b[0;36m1\u001b[0m\u001b[0;34m,\u001b[0m\u001b[0;36m4\u001b[0m\u001b[0;34m]\u001b[0m\u001b[0;34m)\u001b[0m\u001b[0;34m\u001b[0m\u001b[0;34m\u001b[0m\u001b[0m\n\u001b[0m\u001b[1;32m     11\u001b[0m \u001b[0mprint\u001b[0m\u001b[0;34m(\u001b[0m\u001b[0me\u001b[0m\u001b[0;34m.\u001b[0m\u001b[0msize\u001b[0m\u001b[0;34m)\u001b[0m\u001b[0;34m\u001b[0m\u001b[0;34m\u001b[0m\u001b[0m\n",
            "\u001b[0;31mTypeError\u001b[0m: data type not understood"
          ]
        }
      ]
    },
    {
      "cell_type": "code",
      "metadata": {
        "id": "xYRmOLj3Xpjt",
        "colab_type": "code",
        "outputId": "21693a56-7ce8-49d1-a964-727ce915f1d1",
        "colab": {
          "base_uri": "https://localhost:8080/",
          "height": 34
        }
      },
      "source": [
        "import numpy as np\n",
        " \n",
        "e = np.array([[1,2,3],[0,1,4]])\n",
        "print(e.size)"
      ],
      "execution_count": 0,
      "outputs": [
        {
          "output_type": "stream",
          "text": [
            "6\n"
          ],
          "name": "stdout"
        }
      ]
    },
    {
      "cell_type": "code",
      "metadata": {
        "id": "BFt5T49CpJYR",
        "colab_type": "code",
        "outputId": "a0aecae4-fbeb-46d0-e056-776e189ec3de",
        "colab": {
          "base_uri": "https://localhost:8080/",
          "height": 34
        }
      },
      "source": [
        "size_of_vec = 10000\n",
        "X_list = range(size_of_vec)\n",
        "Y_list = range(size_of_vec)\n",
        "X = np.arange(size_of_vec)\n",
        "Y = np.arange(size_of_vec)\n",
        "X_list\n",
        "\n",
        "X\n"
      ],
      "execution_count": 0,
      "outputs": [
        {
          "output_type": "execute_result",
          "data": {
            "text/plain": [
              "array([   0,    1,    2, ..., 9997, 9998, 9999])"
            ]
          },
          "metadata": {
            "tags": []
          },
          "execution_count": 12
        }
      ]
    }
  ]
}